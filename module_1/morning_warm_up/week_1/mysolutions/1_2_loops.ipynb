{
 "cells": [
  {
   "cell_type": "code",
   "execution_count": 2,
   "metadata": {},
   "outputs": [],
   "source": [
    "nums = [2, 9, 11, 15,3,4,1]"
   ]
  },
  {
   "cell_type": "code",
   "execution_count": 3,
   "metadata": {},
   "outputs": [],
   "source": [
    "target = 9"
   ]
  },
  {
   "cell_type": "code",
   "execution_count": 21,
   "metadata": {},
   "outputs": [],
   "source": [
    "def get_pos(target):\n",
    "    ipos =0\n",
    "    for i in nums:\n",
    "        if i==target:\n",
    "            return ipos\n",
    "        else:\n",
    "            ipos +=1\n",
    "    return None"
   ]
  },
  {
   "cell_type": "code",
   "execution_count": 22,
   "metadata": {},
   "outputs": [],
   "source": [
    "get_pos(16)"
   ]
  },
  {
   "cell_type": "code",
   "execution_count": 15,
   "metadata": {},
   "outputs": [],
   "source": [
    "nums = [2, 7, 11, 15,4]\n",
    "target = 6"
   ]
  },
  {
   "cell_type": "code",
   "execution_count": 41,
   "metadata": {},
   "outputs": [
    {
     "name": "stdout",
     "output_type": "stream",
     "text": [
      "[7, 4]\n"
     ]
    }
   ],
   "source": [
    "alen = len(nums)\n",
    "result = []\n",
    "for i in range(alen):\n",
    "    for j in range(i+1,alen):\n",
    "        if nums[i] + nums[j] == target:\n",
    "            result.append(nums[i])\n",
    "            result.append(nums[j])\n",
    "print(result)"
   ]
  },
  {
   "cell_type": "code",
   "execution_count": 44,
   "metadata": {},
   "outputs": [],
   "source": [
    "nums_dict = {'n0':2, 'n1': 7, 'n2':11, 'n3':15,'n4':4}"
   ]
  },
  {
   "cell_type": "code",
   "execution_count": 35,
   "metadata": {},
   "outputs": [
    {
     "name": "stdout",
     "output_type": "stream",
     "text": [
      "2\n"
     ]
    }
   ],
   "source": [
    "ipos =0\n",
    "target = 11\n",
    "for i in nums_dict:\n",
    "    if nums_dict[i]==target:\n",
    "        print(ipos)\n",
    "        break;\n",
    "    else:\n",
    "        ipos +=1\n",
    "    "
   ]
  },
  {
   "cell_type": "code",
   "execution_count": 53,
   "metadata": {},
   "outputs": [
    {
     "name": "stdout",
     "output_type": "stream",
     "text": [
      "['n1', 'n4', 'n4', 'n1']\n"
     ]
    }
   ],
   "source": [
    "alen = len(nums_dict)\n",
    "#print(alen)\n",
    "\n",
    "result = []\n",
    "for k1,v1 in nums_dict.items():\n",
    "    #print(k)\n",
    "    for k2,v2 in nums_dict.items():\n",
    "        if k1 !=k2:\n",
    "            #print(v)\n",
    "            #print(v2)\n",
    "            if target == v1 + v2:\n",
    "                result.append(k1)\n",
    "                result.append(k2)\n",
    "                break;\n",
    "#    for j in range(i+1,alen):\n",
    "#        if nums[i] + nums[j] == target:\n",
    "#            result.append(nums[i])\n",
    "#            result.append(nums[j])\n",
    "print(result)"
   ]
  },
  {
   "cell_type": "code",
   "execution_count": 39,
   "metadata": {},
   "outputs": [
    {
     "data": {
      "text/plain": [
       "[]"
      ]
     },
     "execution_count": 39,
     "metadata": {},
     "output_type": "execute_result"
    }
   ],
   "source": [
    "result"
   ]
  },
  {
   "cell_type": "code",
   "execution_count": null,
   "metadata": {},
   "outputs": [],
   "source": []
  }
 ],
 "metadata": {
  "kernelspec": {
   "display_name": "Python 3",
   "language": "python",
   "name": "python3"
  },
  "language_info": {
   "codemirror_mode": {
    "name": "ipython",
    "version": 3
   },
   "file_extension": ".py",
   "mimetype": "text/x-python",
   "name": "python",
   "nbconvert_exporter": "python",
   "pygments_lexer": "ipython3",
   "version": "3.6.8"
  }
 },
 "nbformat": 4,
 "nbformat_minor": 2
}
