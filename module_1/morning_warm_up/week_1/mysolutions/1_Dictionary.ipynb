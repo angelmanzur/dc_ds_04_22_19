{
 "cells": [
  {
   "cell_type": "markdown",
   "metadata": {},
   "source": [
    "# Dictionary"
   ]
  },
  {
   "cell_type": "markdown",
   "metadata": {},
   "source": [
    "## Create a dictionary"
   ]
  },
  {
   "cell_type": "code",
   "execution_count": 124,
   "metadata": {},
   "outputs": [],
   "source": [
    "mydict = {'A': [20.1, \"AA\"], 'B': [23.2,\"BBB\"], 'C':[5.4, \"CCC\"], 'D':[34.2,\"DDD\"], 'E':[33.5,\"EEE\"],'F':[45.0,'FFF']}"
   ]
  },
  {
   "cell_type": "code",
   "execution_count": 125,
   "metadata": {},
   "outputs": [
    {
     "data": {
      "text/plain": [
       "{'A': [20.1, 'AA'],\n",
       " 'B': [23.2, 'BBB'],\n",
       " 'C': [5.4, 'CCC'],\n",
       " 'D': [34.2, 'DDD'],\n",
       " 'E': [33.5, 'EEE'],\n",
       " 'F': [45.0, 'FFF']}"
      ]
     },
     "execution_count": 125,
     "metadata": {},
     "output_type": "execute_result"
    }
   ],
   "source": [
    "mydict"
   ]
  },
  {
   "cell_type": "markdown",
   "metadata": {},
   "source": [
    "### Pop on element"
   ]
  },
  {
   "cell_type": "code",
   "execution_count": 126,
   "metadata": {},
   "outputs": [
    {
     "data": {
      "text/plain": [
       "[23.2, 'BBB']"
      ]
     },
     "execution_count": 126,
     "metadata": {},
     "output_type": "execute_result"
    }
   ],
   "source": [
    "mydict.pop('B')"
   ]
  },
  {
   "cell_type": "code",
   "execution_count": 127,
   "metadata": {},
   "outputs": [
    {
     "data": {
      "text/plain": [
       "{'A': [20.1, 'AA'],\n",
       " 'C': [5.4, 'CCC'],\n",
       " 'D': [34.2, 'DDD'],\n",
       " 'E': [33.5, 'EEE'],\n",
       " 'F': [45.0, 'FFF']}"
      ]
     },
     "execution_count": 127,
     "metadata": {},
     "output_type": "execute_result"
    }
   ],
   "source": [
    "mydict"
   ]
  },
  {
   "cell_type": "markdown",
   "metadata": {},
   "source": [
    "## Create the ages array"
   ]
  },
  {
   "cell_type": "code",
   "execution_count": 128,
   "metadata": {},
   "outputs": [
    {
     "name": "stdout",
     "output_type": "stream",
     "text": [
      "AA\n",
      "CCC\n",
      "DDD\n",
      "EEE\n",
      "FFF\n"
     ]
    }
   ],
   "source": [
    "ages =[]\n",
    "for entry in mydict:\n",
    "    print(mydict[entry][1])\n",
    "    ages.append(mydict[entry][0])\n",
    "    "
   ]
  },
  {
   "cell_type": "code",
   "execution_count": 129,
   "metadata": {},
   "outputs": [
    {
     "data": {
      "text/plain": [
       "[20.1, 5.4, 34.2, 33.5, 45.0]"
      ]
     },
     "execution_count": 129,
     "metadata": {},
     "output_type": "execute_result"
    }
   ],
   "source": [
    "ages"
   ]
  },
  {
   "cell_type": "markdown",
   "metadata": {},
   "source": [
    "## Calculate the mean"
   ]
  },
  {
   "cell_type": "code",
   "execution_count": 130,
   "metadata": {},
   "outputs": [
    {
     "name": "stdout",
     "output_type": "stream",
     "text": [
      "27.64\n"
     ]
    }
   ],
   "source": [
    "avg =0\n",
    "for val in ages:\n",
    "    avg += val/len(ages)\n",
    "    \n",
    "print(avg)"
   ]
  },
  {
   "cell_type": "code",
   "execution_count": 131,
   "metadata": {},
   "outputs": [],
   "source": [
    "sages=[]"
   ]
  },
  {
   "cell_type": "markdown",
   "metadata": {},
   "source": [
    "## Sort the ages"
   ]
  },
  {
   "cell_type": "code",
   "execution_count": 132,
   "metadata": {},
   "outputs": [],
   "source": [
    "\n",
    "minage = 1000;\n",
    "for v in range(len(ages)):\n",
    "    minage = 1e4\n",
    "    for val in ages:\n",
    "        if val< minage:\n",
    "            minage =val\n",
    "    sages.append(minage)\n",
    "#    print(minage)\n",
    "    ages.remove(minage)\n",
    "#    print(ages)\n",
    "#    print(sages)"
   ]
  },
  {
   "cell_type": "code",
   "execution_count": 133,
   "metadata": {},
   "outputs": [
    {
     "data": {
      "text/plain": [
       "[5.4, 20.1, 33.5, 34.2, 45.0]"
      ]
     },
     "execution_count": 133,
     "metadata": {},
     "output_type": "execute_result"
    }
   ],
   "source": [
    "sages"
   ]
  },
  {
   "cell_type": "markdown",
   "metadata": {},
   "source": [
    "# Calculate the median on the sorted array"
   ]
  },
  {
   "cell_type": "code",
   "execution_count": 135,
   "metadata": {},
   "outputs": [
    {
     "name": "stdout",
     "output_type": "stream",
     "text": [
      "33.5\n"
     ]
    }
   ],
   "source": [
    "mymedian =0\n",
    "nages = len(sages)\n",
    "if nages%2==0:\n",
    "    mymedian = (sages[int(nages/2-1)]+sages[int(nages/2)])/2.\n",
    "else:\n",
    "    mymedian = sages[int(nages/2)]\n",
    "\n",
    "print(mymedian)\n",
    "#ages[int(nages/2+1)]"
   ]
  },
  {
   "cell_type": "code",
   "execution_count": null,
   "metadata": {},
   "outputs": [],
   "source": []
  }
 ],
 "metadata": {
  "kernelspec": {
   "display_name": "Python 3",
   "language": "python",
   "name": "python3"
  },
  "language_info": {
   "codemirror_mode": {
    "name": "ipython",
    "version": 3
   },
   "file_extension": ".py",
   "mimetype": "text/x-python",
   "name": "python",
   "nbconvert_exporter": "python",
   "pygments_lexer": "ipython3",
   "version": "3.6.8"
  }
 },
 "nbformat": 4,
 "nbformat_minor": 2
}
